{
  "cells": [
    {
      "cell_type": "markdown",
      "metadata": {
        "id": "Igo48YbOJJDC"
      },
      "source": [
        "# Graph Search Agent\n",
        "\n",
        "The graph search agent requires an environment to define the following\n",
        "\n",
        "1. Start State\n",
        "2. Goal State\n",
        "3. Possible Actions\n",
        "\n",
        "We have to make a generalised agent, which reaches the goal state using the functions of the environment. Our agent will use BFS/DFS to reach to the goal state"
      ]
    },
    {
      "cell_type": "code",
      "execution_count": 187,
      "metadata": {
        "id": "exlVLjnrJJDF"
      },
      "outputs": [],
      "source": [
        "import numpy as np\n",
        "import sys\n",
        "from time import time"
      ]
    },
    {
      "cell_type": "markdown",
      "metadata": {
        "id": "xDAME_U8JJDG"
      },
      "source": [
        "## Node\n",
        "The Node class greates the graph node. It has the following values\n",
        "1. Parent Node\n",
        "2. State \n",
        "3. pcost - Path Cost\n",
        "4. hcost - Heuristic Cost\n",
        "5. cost - Total cost = pcost + hcost\n",
        "\n",
        "It makes use of the following built in functions: \n",
        "1. \\_\\_hash\\_\\_ : This provides the hash value for every node, which is required for the hashset\n",
        "2. \\_\\_eq\\_\\_ : To check if 2 nodes are equal (Operator overload)\n",
        "3. \\_\\_ne\\_\\_ : To check if 2 nodes are not equal (Operator overload)\n",
        "4. \\_\\_str\\_\\_ : To get string representation of state in node"
      ]
    },
    {
      "cell_type": "code",
      "execution_count": 188,
      "metadata": {
        "id": "kxYFiigCJJDH"
      },
      "outputs": [],
      "source": [
        "class Node:\n",
        "    def __init__(self, parent, state, pcost, hcost):\n",
        "        \n",
        "        self.parent = parent\n",
        "        self.state = state\n",
        "        self.pcost = pcost\n",
        "        self.hcost = hcost\n",
        "        self.cost = pcost + hcost\n",
        "    \n",
        "    def __hash__(self):\n",
        "        \n",
        "        return hash(''.join(self.state.flatten()))\n",
        "    \n",
        "    def __str__(self):\n",
        "        return str(self.state)\n",
        "    \n",
        "    def __eq__(self, other):\n",
        "        \n",
        "        return hash(''.join(self.state.flatten())) == hash(''.join(other.state.flatten())) \n",
        "    \n",
        "    def __ne__(self, other):\n",
        "        return hash(''.join(self.state.flatten())) != hash(''.join(other.state.flatten()))"
      ]
    },
    {
      "cell_type": "markdown",
      "metadata": {
        "id": "K5L6U1JKJJDI"
      },
      "source": [
        "## PriorityQueue\n",
        "The Priority Queue is used to store the nodes along with the cost, and pop the node having the least cost for BFS\n",
        "\n",
        "It makes use of the following functions: \n",
        "1. push : Add node to queue\n",
        "2. pop : Pop node having least cost\n",
        "3. is_empty : To check if queue is empty\n",
        "4. \\_\\_len\\_\\_ : To get length of queue\n",
        "5. \\_\\_str\\_\\_ : To get string representation of queue"
      ]
    },
    {
      "cell_type": "code",
      "execution_count": 189,
      "metadata": {
        "id": "w9loRM-yJJDI"
      },
      "outputs": [],
      "source": [
        "class PriorityQueue():\n",
        "    \n",
        "    def __init__(self):\n",
        "        self.queue = []\n",
        "        \n",
        "    def push(self, node):\n",
        "        self.queue.append(node)\n",
        "    \n",
        "    def pop(self):\n",
        "        \n",
        "        next_state = None\n",
        "        state_cost = 10**18\n",
        "        index = -1\n",
        "        \n",
        "        for i in range(len(self.queue)):\n",
        "            \n",
        "            if self.queue[i].cost<state_cost:\n",
        "                state_cost = self.queue[i].cost\n",
        "                index = i\n",
        "        \n",
        "        return self.queue.pop(index)\n",
        "    \n",
        "    def is_empty(self):\n",
        "        \n",
        "        return len(self.queue)==0\n",
        "    \n",
        "    def __str__(self):\n",
        "        l = []\n",
        "        for i in self.queue:\n",
        "            l.append(i.state)\n",
        "        \n",
        "        return str(l)\n",
        "    \n",
        "    def __len__(self):\n",
        "        return len(self.queue)\n",
        "            "
      ]
    },
    {
      "cell_type": "markdown",
      "metadata": {
        "id": "NewIMVk2JJDJ"
      },
      "source": [
        "## Environment\n",
        "\n",
        "The environment is what the agent plays in. It has the following entities:\n",
        "1. actions : The actions defined in the environment\n",
        "2. depth: the maximum depth of the solution\n",
        "3. goal_state : The goal state of the environment\n",
        "4. start_state : The start state generated at the depth\n",
        "\n",
        "It has the following functions: \n",
        "1. get_start_state : returns the start state\n",
        "2. reached_goal : returns goal_state\n",
        "3. get_next_states : Given current state, it returns all possible next states\n",
        "4. generate_start_state : Given goal state and depth d, performs d moves to generate a start state "
      ]
    },
    {
      "cell_type": "code",
      "execution_count": 190,
      "metadata": {
        "id": "JtrlFIeOJJDJ"
      },
      "outputs": [],
      "source": [
        "class Environment():\n",
        "    \n",
        "    def __init__(self, depth = None, goal_state = None):\n",
        "        self.actions = [1,2,3,4] #1 - Up, 2 - Down, 3 - Right, 4 - Left\n",
        "        self.goal_state = goal_state\n",
        "        self.depth = depth\n",
        "        self.start_state = self.generate_start_state()\n",
        "    \n",
        "    def generate_start_state(self):\n",
        "        \n",
        "        past_state = self.goal_state\n",
        "        i=0\n",
        "        while i!= self.depth:\n",
        "            new_states = self.get_next_states(past_state)\n",
        "            choice = np.random.randint(low=0, high=len(new_states))\n",
        "            \n",
        "            if np.array_equal(new_states[choice], past_state):\n",
        "                continue\n",
        "            \n",
        "            past_state = new_states[choice]\n",
        "            i+=1\n",
        "            \n",
        "        return past_state\n",
        "    \n",
        "    def get_start_state(self):\n",
        "        return self.start_state\n",
        "    \n",
        "    def get_goal_state(self):\n",
        "        return self.goal_state\n",
        "    \n",
        "    def get_next_states(self, state):\n",
        "        \n",
        "        space = (0,0)\n",
        "        for i in range(3):\n",
        "            for j in range(3):\n",
        "                if state[i,j] == '_':\n",
        "                    space = (i,j)\n",
        "                    break\n",
        "        \n",
        "        new_states = []\n",
        "        \n",
        "        if space[0] > 0:# Move Up\n",
        "            new_state = np.copy(state)\n",
        "            \n",
        "            val = new_state[space[0], space[1]]\n",
        "            new_state[space[0], space[1]]  = new_state[space[0]-1, space[1]]\n",
        "            new_state[space[0]-1, space[1]] = val\n",
        "            \n",
        "            new_states.append(new_state)\n",
        "            \n",
        "        if space[0] < 2: #Move down\n",
        "            new_state = np.copy(state)\n",
        "            \n",
        "            val = new_state[space[0], space[1]]\n",
        "            new_state[space[0], space[1]]  = new_state[space[0]+1, space[1]]\n",
        "            new_state[space[0]+1, space[1]] = val\n",
        "            \n",
        "            new_states.append(new_state)\n",
        "        \n",
        "        if space[1]<2: #Move right\n",
        "            new_state = np.copy(state)\n",
        "            \n",
        "            val = new_state[space[0], space[1]]\n",
        "            new_state[space[0], space[1]] = new_state[space[0], space[1]+1]\n",
        "            new_state[space[0], space[1]+1] = val\n",
        "            \n",
        "            new_states.append(new_state)\n",
        "            \n",
        "        if space[1] > 0: #Move Left\n",
        "            new_state = np.copy(state)\n",
        "            \n",
        "            val = new_state[space[0], space[1]]\n",
        "            new_state[space[0], space[1]] = new_state[space[0], space[1]-1]\n",
        "            new_state[space[0], space[1]-1] = val\n",
        "            \n",
        "            new_states.append(new_state)\n",
        "        \n",
        "        return new_states\n",
        "    \n",
        "    def reached_goal(self, state):\n",
        "        \n",
        "        for i in range(3):\n",
        "            for j in range(3):\n",
        "                if state[i,j] != self.goal_state[i,j]:\n",
        "                    return False\n",
        "        \n",
        "        return True"
      ]
    },
    {
      "cell_type": "markdown",
      "metadata": {
        "id": "0hgtI94KJJDK"
      },
      "source": [
        "## Agent\n",
        "The agent is the player who plays the game against the environment to win. It has the following entities:\n",
        "1. frontier : This is the priority queue used to store the nodes to be explored.\n",
        "2. explored : This is the dictionary which stores the explored nodes\n",
        "3. start_state : Stores the start state\n",
        "4. goal_state : Stores the goal state\n",
        "5. env : Stores the environment\n",
        "6. goal_node : Stores the goal node if found\n",
        "7. heuristic : Stores the heuristic function\n",
        "\n",
        "The agent has the following functions: \n",
        "1. run(): Is the function that explores the environment and finds the goal node. Uses the built in heuristic function to get the path costs\n",
        "2. print_nodes(): To print the path from the start node to goal node"
      ]
    },
    {
      "cell_type": "code",
      "execution_count": 191,
      "metadata": {
        "id": "RenrlDG7JJDL"
      },
      "outputs": [],
      "source": [
        "class Agent:\n",
        "    \n",
        "    def __init__(self, env, heuristic):\n",
        "        self.frontier = PriorityQueue()\n",
        "        self.explored = dict()\n",
        "        self.start_state = env.get_start_state()\n",
        "        self.goal_state = env.get_goal_state()\n",
        "        self.env = env\n",
        "        self.goal_node = None\n",
        "        self.heuristic = heuristic\n",
        "    \n",
        "    def run(self):\n",
        "        init_node = Node(parent = None, state = self.start_state, pcost = 0, hcost=0)\n",
        "        self.frontier.push(init_node)\n",
        "        steps = 0\n",
        "        while not self.frontier.is_empty():\n",
        "\n",
        "            curr_node = self.frontier.pop()\n",
        "            #print(curr_node.cost)\n",
        "            next_states = self.env.get_next_states(curr_node.state)\n",
        "\n",
        "            if self.env.reached_goal(curr_node.state):\n",
        "                #print(\"Reached goal!\")\n",
        "                self.explored[hash(curr_node)] = curr_node\n",
        "                self.goal_node = curr_node\n",
        "                break\n",
        "            goal_state = self.env.get_goal_state()\n",
        "\n",
        "            if hash(curr_node) in self.explored:\n",
        "                continue\n",
        "            self.explored[hash(curr_node)] = curr_node\n",
        "\n",
        "\n",
        "            l = []\n",
        "            for state in next_states:\n",
        "\n",
        "                hcost = self.heuristic(state, goal_state)\n",
        "                node = Node(parent=curr_node, state=state, pcost=curr_node.pcost+1, hcost=hcost)\n",
        "                self.frontier.push(node)\n",
        "            steps += 1\n",
        "        return steps, self.soln_depth()\n",
        "    \n",
        "    def soln_depth(self):\n",
        "        node = self.goal_node\n",
        "        count = 0\n",
        "        while node is not None:\n",
        "            node = node.parent\n",
        "            count+=1\n",
        "        \n",
        "        return count\n",
        "    \n",
        "    def print_nodes(self):\n",
        "        \n",
        "        node = self.goal_node\n",
        "        l = []\n",
        "        while node is not None:\n",
        "            l.append(node)\n",
        "            node = node.parent\n",
        "\n",
        "        step = 1\n",
        "        for node in l[::-1]:\n",
        "            print(\"Step: \",step)\n",
        "            print(node)\n",
        "            step+=1\n",
        "    \n",
        "    def get_memory(self):\n",
        "        \n",
        "        mem = len(self.frontier)*56 + len(self.explored)*56\n",
        "        return mem"
      ]
    },
    {
      "cell_type": "markdown",
      "metadata": {
        "id": "D1pUMJdpJJDM"
      },
      "source": [
        "Since the environment cannot spawn its own start and end states, we input the start state and end state to the environment"
      ]
    },
    {
      "cell_type": "markdown",
      "metadata": {
        "id": "R9J74VLwJJDM"
      },
      "source": [
        "### Heuristic 0\n",
        "This is a null heuristic, returns 0 for any state. Essentially uniform cost search."
      ]
    },
    {
      "cell_type": "code",
      "execution_count": 192,
      "metadata": {
        "id": "boAtx-3RJJDM"
      },
      "outputs": [],
      "source": [
        "def heuristic0(curr_state, goal_state):\n",
        "    return 0"
      ]
    },
    {
      "cell_type": "markdown",
      "metadata": {
        "id": "PWApG8uWJJDN"
      },
      "source": [
        "### Heuristic 1\n",
        "\n",
        "This heuristic counts the number of misplaced tiles"
      ]
    },
    {
      "cell_type": "code",
      "execution_count": 193,
      "metadata": {
        "id": "M07s9fKRJJDN"
      },
      "outputs": [],
      "source": [
        "def heuristic1(curr_state, goal_state):\n",
        "    \n",
        "    count = 0\n",
        "    for i in range(3):\n",
        "        for j in range(3):\n",
        "            if curr_state[i, j]!=goal_state[i,j]:\n",
        "                count+=1\n",
        "    \n",
        "    return count"
      ]
    },
    {
      "cell_type": "markdown",
      "metadata": {
        "id": "_E8fD131JJDN"
      },
      "source": [
        "### Heuristic 2\n",
        "\n",
        "This is the manhattan distance, it returns the sum of the horizontal and vertical distances of the all marble in current state from center. "
      ]
    },
    {
      "cell_type": "code",
      "execution_count": 194,
      "metadata": {
        "id": "5f9KHjnUJJDN"
      },
      "outputs": [],
      "source": [
        "def heuristic2(curr_state, goal_state):\n",
        "    \n",
        "    dist = 0\n",
        "\n",
        "    for i in range(3):\n",
        "        for j in range(3):\n",
        "            ele = curr_state[i, j]\n",
        "            goal_i, goal_j = np.where(goal_state==ele)\n",
        "            d = abs(goal_i[0] - i) + abs(goal_j[0] - j)\n",
        "            dist += d\n",
        "    \n",
        "    return dist"
      ]
    },
    {
      "cell_type": "code",
      "execution_count": 195,
      "metadata": {
        "id": "QaG-ZxJxJJDO",
        "outputId": "5d9b4333-8182-469e-87b7-187b4e67add0",
        "colab": {
          "base_uri": "https://localhost:8080/"
        }
      },
      "outputs": [
        {
          "output_type": "stream",
          "name": "stdout",
          "text": [
            "Start State: \n",
            "[['1' '5' '2']\n",
            " ['8' '_' '3']\n",
            " ['4' '6' '7']]\n",
            "Goal State: \n",
            "[['1' '2' '3']\n",
            " ['8' '_' '4']\n",
            " ['7' '6' '5']]\n"
          ]
        }
      ],
      "source": [
        "depth = 500\n",
        "goal_state = np.array([[1,2,3], [8,'_',4], [7,6,5]])\n",
        "env = Environment(depth, goal_state)\n",
        "print(\"Start State: \")\n",
        "print(env.get_start_state())\n",
        "print(\"Goal State: \")\n",
        "print(goal_state)"
      ]
    },
    {
      "cell_type": "code",
      "execution_count": 196,
      "metadata": {
        "id": "GQjzVw-RJJDP"
      },
      "outputs": [],
      "source": [
        "agent = Agent(env = env, heuristic = heuristic2)"
      ]
    },
    {
      "cell_type": "code",
      "source": [
        "agent.run()"
      ],
      "metadata": {
        "colab": {
          "base_uri": "https://localhost:8080/"
        },
        "id": "O1r4g__Bme1M",
        "outputId": "51523a0f-ac27-4b9e-92f9-068dcd816c4d"
      },
      "execution_count": 197,
      "outputs": [
        {
          "output_type": "execute_result",
          "data": {
            "text/plain": [
              "(122, 17)"
            ]
          },
          "metadata": {},
          "execution_count": 197
        }
      ]
    },
    {
      "cell_type": "code",
      "source": [
        "agent.print_nodes()"
      ],
      "metadata": {
        "colab": {
          "base_uri": "https://localhost:8080/"
        },
        "id": "G-kBvoiHme8K",
        "outputId": "8ab09bcf-ff78-4b33-d3e3-b748721c9564"
      },
      "execution_count": 198,
      "outputs": [
        {
          "output_type": "stream",
          "name": "stdout",
          "text": [
            "Step:  1\n",
            "[['1' '5' '2']\n",
            " ['8' '_' '3']\n",
            " ['4' '6' '7']]\tStep:  2\n",
            "[['1' '_' '2']\n",
            " ['8' '5' '3']\n",
            " ['4' '6' '7']]\tStep:  3\n",
            "[['1' '2' '_']\n",
            " ['8' '5' '3']\n",
            " ['4' '6' '7']]\tStep:  4\n",
            "[['1' '2' '3']\n",
            " ['8' '5' '_']\n",
            " ['4' '6' '7']]\tStep:  5\n",
            "[['1' '2' '3']\n",
            " ['8' '_' '5']\n",
            " ['4' '6' '7']]\tStep:  6\n",
            "[['1' '2' '3']\n",
            " ['8' '6' '5']\n",
            " ['4' '_' '7']]\tStep:  7\n",
            "[['1' '2' '3']\n",
            " ['8' '6' '5']\n",
            " ['_' '4' '7']]\tStep:  8\n",
            "[['1' '2' '3']\n",
            " ['_' '6' '5']\n",
            " ['8' '4' '7']]\tStep:  9\n",
            "[['1' '2' '3']\n",
            " ['6' '_' '5']\n",
            " ['8' '4' '7']]\tStep:  10\n",
            "[['1' '2' '3']\n",
            " ['6' '4' '5']\n",
            " ['8' '_' '7']]\tStep:  11\n",
            "[['1' '2' '3']\n",
            " ['6' '4' '5']\n",
            " ['8' '7' '_']]\tStep:  12\n",
            "[['1' '2' '3']\n",
            " ['6' '4' '_']\n",
            " ['8' '7' '5']]\tStep:  13\n",
            "[['1' '2' '3']\n",
            " ['6' '_' '4']\n",
            " ['8' '7' '5']]\tStep:  14\n",
            "[['1' '2' '3']\n",
            " ['_' '6' '4']\n",
            " ['8' '7' '5']]\tStep:  15\n",
            "[['1' '2' '3']\n",
            " ['8' '6' '4']\n",
            " ['_' '7' '5']]\tStep:  16\n",
            "[['1' '2' '3']\n",
            " ['8' '6' '4']\n",
            " ['7' '_' '5']]\tStep:  17\n",
            "[['1' '2' '3']\n",
            " ['8' '_' '4']\n",
            " ['7' '6' '5']]\t"
          ]
        }
      ]
    },
    {
      "cell_type": "code",
      "execution_count": 199,
      "metadata": {
        "id": "fJ0uiC7yJJDQ",
        "outputId": "6290e6b3-c134-47e3-c2a3-2ddb824295f8",
        "colab": {
          "base_uri": "https://localhost:8080/"
        }
      },
      "outputs": [
        {
          "output_type": "stream",
          "name": "stdout",
          "text": [
            "0 4.710197448730469e-05 56.0\n",
            "40 0.015845060348510742 8183.84\n",
            "10 0.0008385419845581054 741.44\n",
            "50 0.09389701843261719 21105.28\n",
            "20 0.0026537704467773436 2051.84\n",
            "60 0.07944315433502197 24856.16\n",
            "30 0.005583915710449219 3455.2\n"
          ]
        }
      ],
      "source": [
        "goal_state = np.array([[1,2,3], [8,'_',4], [7,6,5]])\n",
        "times_taken = {}\n",
        "mems = {}\n",
        "depths = {0,10,20,30,40,50,60}\n",
        "for depth in depths:\n",
        "    \n",
        "    time_taken = 0\n",
        "    mem = 0\n",
        "    for i in range(50):\n",
        "        env = Environment(depth=depth, goal_state=goal_state)\n",
        "        agent = Agent(env = env, heuristic = heuristic2)\n",
        "        start_time = time()\n",
        "        agent.run()\n",
        "        end_time = time()\n",
        "        time_taken+=end_time - start_time\n",
        "        mem+=agent.get_memory()\n",
        "    \n",
        "    time_taken/=50\n",
        "    mem = mem/50\n",
        "    times_taken[depth] = time_taken\n",
        "    mems[depth] = mem\n",
        "    print(depth, time_taken, mem)\n",
        "\n",
        "    \n",
        "    "
      ]
    },
    {
      "cell_type": "markdown",
      "source": [
        "Refrenced From [TanmayAmbadkar/CS302-AI](https://github.com/TanmayAmbadkar/CS302-AI)"
      ],
      "metadata": {
        "id": "WnFU-JyZl9Ja"
      }
    }
  ],
  "metadata": {
    "kernelspec": {
      "display_name": "Python 3",
      "language": "python",
      "name": "python3"
    },
    "language_info": {
      "codemirror_mode": {
        "name": "ipython",
        "version": 3
      },
      "file_extension": ".py",
      "mimetype": "text/x-python",
      "name": "python",
      "nbconvert_exporter": "python",
      "pygments_lexer": "ipython3",
      "version": "3.8.5"
    },
    "colab": {
      "provenance": []
    }
  },
  "nbformat": 4,
  "nbformat_minor": 0
}